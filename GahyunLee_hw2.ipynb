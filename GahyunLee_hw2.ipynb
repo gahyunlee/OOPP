{
 "cells": [
  {
   "cell_type": "code",
   "execution_count": 1,
   "metadata": {},
   "outputs": [
    {
     "data": {
      "text/plain": [
       "'1.  Write a program that uses nested loops to collect data and calculate the average rainfall over a\\nperiod of years. The program should first ask for the number of years. The outer loop will iterate once\\nfor each year. The inner loop will iterate three times, once each for April, May and June. Each iteration\\nof the inner loop will ask the user for the inches of rainfall that month. After all iterations, the program\\nshould display the number of months, the total inches of rainfall, and the average rainfall per month for\\nthe entire period. Assume that the user will enter a value between 1 and 4 for the number of years\\n'"
      ]
     },
     "execution_count": 1,
     "metadata": {},
     "output_type": "execute_result"
    }
   ],
   "source": [
    "'''1.  Write a program that uses nested loops to collect data and calculate the average rainfall over a\n",
    "period of years. The program should first ask for the number of years. The outer loop will iterate once\n",
    "for each year. The inner loop will iterate three times, once each for April, May and June. Each iteration\n",
    "of the inner loop will ask the user for the inches of rainfall that month. After all iterations, the program\n",
    "should display the number of months, the total inches of rainfall, and the average rainfall per month for\n",
    "the entire period. Assume that the user will enter a value between 1 and 4 for the number of years\n",
    "''' "
   ]
  },
  {
   "cell_type": "code",
   "execution_count": 14,
   "metadata": {},
   "outputs": [
    {
     "name": "stdout",
     "output_type": "stream",
     "text": [
      "Enter the number of years(< 5): 5\n",
      "Invalid input. Enter an integer less than 5\n",
      "Enter the number of years(< 5): 5\n",
      "Invalid input. Enter an integer less than 5\n",
      "Enter the number of years(< 5): 3\n",
      "Enter the rainfall for the month in inches: 1\n",
      "Enter the rainfall for the month in inches: 2\n",
      "Enter the rainfall for the month in inches: 3\n",
      "Enter the rainfall for the month in inches: 4\n",
      "Enter the rainfall for the month in inches: 4\n",
      "Enter the rainfall for the month in inches: 6\n",
      "Enter the rainfall for the month in inches: 6\n",
      "Enter the rainfall for the month in inches: 7\n",
      "Enter the rainfall for the month in inches: 8\n",
      "The number of months is 9\n",
      "The total inches of rainfall is 41\n",
      "The average rainfall per month for the entire period is 4.555555555555555\n"
     ]
    }
   ],
   "source": [
    "n = int(input(\"Enter the number of years(< 5): \"))\n",
    "\n",
    "sumTotal = 0\n",
    "count = 0\n",
    "while n >=5 :\n",
    "    print(\"Invalid input. Enter an integer less than 5\")\n",
    "    n = int(input(\"Enter the number of years(< 5): \"))\n",
    "    \n",
    "for i in range(0, n, 1):\n",
    "    for j in range(1, 4):\n",
    "        count += 1\n",
    "        rain = int(input(\"Enter the rainfall for the month in inches: \"))\n",
    "        sumTotal += rain\n",
    "\n",
    "print(\"The number of months is\", count)\n",
    "print(\"The total inches of rainfall is\", sumTotal)\n",
    "print(\"The average rainfall per month for the entire period is\", (sumTotal)/count)"
   ]
  },
  {
   "cell_type": "code",
   "execution_count": 12,
   "metadata": {},
   "outputs": [
    {
     "data": {
      "text/plain": [
       "' 2.  Write a function to compute the amount accrued with simple interest on an investment\\ngiven the principal amount, the annual interest rate and the number of years in the loan.\\nAssume that the interest rate will be provided as a percentage and not as a decimal value.\\nThe function should compute and return the total amount accrued. The amount accrued\\nis given by the following formula:\\nA = P(1+ rn) where\\n• A is the total amount accrued\\n• P is the original amount invested\\n• r is the annual interest rate\\n• n is the number of years\\n'"
      ]
     },
     "execution_count": 12,
     "metadata": {},
     "output_type": "execute_result"
    }
   ],
   "source": [
    "''' 2.  Write a function to compute the amount accrued with simple interest on an investment\n",
    "given the principal amount, the annual interest rate and the number of years in the loan.\n",
    "Assume that the interest rate will be provided as a percentage and not as a decimal value.\n",
    "The function should compute and return the total amount accrued. The amount accrued\n",
    "is given by the following formula:\n",
    "A = P(1+ rn) where\n",
    "• A is the total amount accrued\n",
    "• P is the original amount invested\n",
    "• r is the annual interest rate\n",
    "• n is the number of years\n",
    "'''"
   ]
  },
  {
   "cell_type": "code",
   "execution_count": 25,
   "metadata": {},
   "outputs": [
    {
     "name": "stdout",
     "output_type": "stream",
     "text": [
      "Please enter the pincipal amount of your investment in dollars: 100\n",
      "Please enter the interest rate: 10\n",
      "Please enter the number of years in the loan: 2\n",
      "The accrued amount with simple interest rate when the principal is 100,the interest rate is 10.0% and the number of years is 2, is $120.00\n"
     ]
    }
   ],
   "source": [
    "def simplei():\n",
    "    p = int(input(\"Please enter the pincipal amount of your investment in dollars: \"))\n",
    "    r = float(input(\"Please enter the interest rate: \")) #percentage, not decimal\n",
    "    n = int(input(\"Please enter the number of years in the loan: \"))\n",
    "    A = p*(1+(r*0.01)*n)\n",
    "    print(\"The accrued amount with simple interest rate when the principal is {0},\\\n",
    "the interest rate is {1}% and the number of years is {2}, is ${3:.2f}\".format(p, r, n, A))\n",
    "\n",
    "simplei()"
   ]
  },
  {
   "cell_type": "code",
   "execution_count": 6,
   "metadata": {},
   "outputs": [
    {
     "data": {
      "text/plain": [
       "' 3.  Write a function to compute the amount accrued with compound interest on an\\ninvestment given the principal amount, the annual interest rate and the number of years in\\nthe loan. Assume that the interest rate will be provided as a percentage and not as a\\ndecimal value. The function should compute and return the total amount accrued. The\\namount accrued is given by the following formula:\\nA = P(1+ r)^n where\\n• A is the total amount accrued\\n• P is the original amount invested\\n• r is the annual interest rate\\n• n is the number of years\\n'"
      ]
     },
     "execution_count": 6,
     "metadata": {},
     "output_type": "execute_result"
    }
   ],
   "source": [
    "''' 3.  Write a function to compute the amount accrued with compound interest on an\n",
    "investment given the principal amount, the annual interest rate and the number of years in\n",
    "the loan. Assume that the interest rate will be provided as a percentage and not as a\n",
    "decimal value. The function should compute and return the total amount accrued. The\n",
    "amount accrued is given by the following formula:\n",
    "A = P(1+ r)^n where\n",
    "• A is the total amount accrued\n",
    "• P is the original amount invested\n",
    "• r is the annual interest rate\n",
    "• n is the number of years\n",
    "'''"
   ]
  },
  {
   "cell_type": "code",
   "execution_count": 29,
   "metadata": {},
   "outputs": [
    {
     "name": "stdout",
     "output_type": "stream",
     "text": [
      "Please enter the principal amount of your investment in dollars: 100\n",
      "Please enter the interest rate: 100\n",
      "Please enter the number of years in the loan: 2\n",
      "The accrued amount with compound interest rate when the principal is 100, the interest rate is 100.0% and the number of years is 2, is $400.00\n"
     ]
    }
   ],
   "source": [
    "def compoundi():\n",
    "    p = int(input(\"Please enter the principal amount of your investment in dollars: \"))\n",
    "    r = float(input(\"Please enter the interest rate: \"))\n",
    "    n = int(input(\"Please enter the number of years in the loan: \"))\n",
    "    A = p*(1+r*0.01)**n\n",
    "    print(\"The accrued amount with compound interest rate when the principal is {0}, \\\n",
    "the interest rate is {1}% and the number of years is {2}, is ${3:.2f}\".format(p, r, n, A))\n",
    "    \n",
    "compoundi()"
   ]
  },
  {
   "cell_type": "code",
   "execution_count": 28,
   "metadata": {},
   "outputs": [
    {
     "data": {
      "text/plain": [
       "' 4.  Write a program to do the following. Ask the user to provide the initial investment\\namount, the percentage interest rate and the number of years for the investment. Then\\nask the user whether she want the simple interest rate computed or the compound interest\\nrate computed. Ask the user to enter ‘C’ for compound and ‘S’ for simple. Assume that\\nsome users may enter lower case responses while some users may enter something else\\naltogether. Your program should account for all situations. Call the appropriate function\\nfrom the two written above and display the amount accrued. \\n'"
      ]
     },
     "execution_count": 28,
     "metadata": {},
     "output_type": "execute_result"
    }
   ],
   "source": [
    "''' 4.  Write a program to do the following. Ask the user to provide the initial investment\n",
    "amount, the percentage interest rate and the number of years for the investment. Then\n",
    "ask the user whether she want the simple interest rate computed or the compound interest\n",
    "rate computed. Ask the user to enter ‘C’ for compound and ‘S’ for simple. Assume that\n",
    "some users may enter lower case responses while some users may enter something else\n",
    "altogether. Your program should account for all situations. Call the appropriate function\n",
    "from the two written above and display the amount accrued. \n",
    "'''"
   ]
  },
  {
   "cell_type": "code",
   "execution_count": 23,
   "metadata": {},
   "outputs": [
    {
     "name": "stdout",
     "output_type": "stream",
     "text": [
      "Please enter the initial investment amount: 100\n",
      "Please enter the percentage interest rate: 10\n",
      "Please enter the number of years in the loan: 2\n",
      "Please enter the type of interest rate you want.'C' for compound rate and 'S' for the simple rate: C\n",
      "The accrued amount with compound interest rate when the principal is 100, the interest rate is 10.0% and the number of years is 2 is $121.00\n"
     ]
    }
   ],
   "source": [
    "p = int(input(\"Please enter the initial investment amount: \"))\n",
    "ir = float(input(\"Please enter the percentage interest rate: \"))\n",
    "n = int(input(\"Please enter the number of years in the loan: \"))\n",
    "r = (input(\"Please enter the type of interest rate you want.\\\n",
    "'C' for compound rate and 'S' for the simple rate: \")).lower()\n",
    "\n",
    "while r != \"c\" and r != \"s\" :\n",
    "    r = input(\"Please enter the type of interest rate you want.\\\n",
    "'C' for compound rate and 'S' for the simple rate: \")\n",
    "if r == \"c\":\n",
    "        Ac = p*(1+ir*0.01)**n\n",
    "        print(\"The accrued amount with compound interest rate when the principal is {0}, \\\n",
    "the interest rate is {1}% and the number of years is {2} is ${3:.2f}\".format(p, ir, n, Ac))\n",
    "else :\n",
    "        As = p*(1+(ir*0.01)*n)\n",
    "        print(\"The accrued amount with simple interest rate when the principal is {0}, \\\n",
    "the interest rate is {1}% and the number of years is {2}, is ${3:.2f}\".format(p, ir, n, As))\n"
   ]
  }
 ],
 "metadata": {
  "kernelspec": {
   "display_name": "Python 3",
   "language": "python",
   "name": "python3"
  },
  "language_info": {
   "codemirror_mode": {
    "name": "ipython",
    "version": 3
   },
   "file_extension": ".py",
   "mimetype": "text/x-python",
   "name": "python",
   "nbconvert_exporter": "python",
   "pygments_lexer": "ipython3",
   "version": "3.7.0"
  }
 },
 "nbformat": 4,
 "nbformat_minor": 2
}
