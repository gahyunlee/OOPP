{
 "cells": [
  {
   "cell_type": "code",
   "execution_count": 20,
   "metadata": {},
   "outputs": [
    {
     "name": "stdout",
     "output_type": "stream",
     "text": [
      "Please enter the speed of your car: 2\n",
      "The distance the car will travel in 5 hours is 10\n",
      "The distance the car will travel in 8 hours is 16\n",
      "The distance the car will travel in 12 hours is 24\n"
     ]
    }
   ],
   "source": [
    "speed = int (input('Please enter the speed of your car: '))\n",
    "print('The distance the car will travel in 5 hours is', 5*speed)\n",
    "print('The distance the car will travel in 8 hours is', 8*speed)\n",
    "print('The distance the car will travel in 12 hours is', 12*speed)"
   ]
  },
  {
   "cell_type": "code",
   "execution_count": 1,
   "metadata": {},
   "outputs": [
    {
     "name": "stdout",
     "output_type": "stream",
     "text": [
      "Please enter a positive integer that is less than 10: 8\n",
      "984\n"
     ]
    }
   ],
   "source": [
    "n = int(input('Please enter a positive integer that is less than 10: '))\n",
    "if (n < 0 or n > 9):\n",
    "    print('Invalid input.')\n",
    "else: \n",
    "    print (n + n*11 + n*111)  # can I do this way?"
   ]
  },
  {
   "cell_type": "code",
   "execution_count": 8,
   "metadata": {},
   "outputs": [
    {
     "name": "stdout",
     "output_type": "stream",
     "text": [
      "Please enter your name: 1\n",
      "Please enter your age: 1\n",
      "Please enter your city: 1\n",
      "Please enter your college: 1\n",
      "Please enter your profession: 1\n",
      "Please enter your type of animal: 1\n",
      "Please enter your pet's name: 1\n",
      "There once was a person named 1 who lived in 1.At the age of 1, 1 went to college at 1. 1 graduated and went to work as a 1. Then, 1 adopted a(n) 1, named 1. They both lived happily ever after.\n"
     ]
    }
   ],
   "source": [
    "name = input('Please enter your name: ')\n",
    "age = int(input('Please enter your age: '))\n",
    "city = input('Please enter your city: ')\n",
    "college = str(input('Please enter your college: '))\n",
    "profession = str(input('Please enter your profession: '))\n",
    "animal = str(input('Please enter your type of animal: '))\n",
    "petName = str(input('Please enter your pet\\'s name: '))\n",
    "print('There once was a person named {0} who lived in {2}.\\\n",
    "At the age of {1}, {0} went to college at {3}. \\\n",
    "{0} graduated and went to work as a {4}. \\\n",
    "Then, {0} adopted a(n) {5}, named {6}. \\\n",
    "They both lived happily ever after.'.format(name, age, city, college, profession, animal, petName))\n"
   ]
  },
  {
   "cell_type": "code",
   "execution_count": 38,
   "metadata": {},
   "outputs": [
    {
     "name": "stdout",
     "output_type": "stream",
     "text": [
      "Enter the weight of your package in pounds: 12.4\n",
      "The cost of shipping your package is $47.12\n"
     ]
    }
   ],
   "source": [
    "n = float(input('Enter the weight of your package in pounds: '))\n",
    "if n <= 2:\n",
    "    print('The cost of shipping your package is ${0:.2f}'.format(1.1*n))\n",
    "elif n <= 6:\n",
    "    print('The cost of shipping your package is ${0:.2f}'.format(2.2*n))\n",
    "elif n <= 10:\n",
    "    print('The cost of shipping your package is ${0:.2f}'.format(3.7*n))\n",
    "else:\n",
    "    print('The cost of shipping your package is ${0:.2f}'.format(3.8*n))"
   ]
  }
 ],
 "metadata": {
  "kernelspec": {
   "display_name": "Python 3",
   "language": "python",
   "name": "python3"
  },
  "language_info": {
   "codemirror_mode": {
    "name": "ipython",
    "version": 3
   },
   "file_extension": ".py",
   "mimetype": "text/x-python",
   "name": "python",
   "nbconvert_exporter": "python",
   "pygments_lexer": "ipython3",
   "version": "3.7.0"
  }
 },
 "nbformat": 4,
 "nbformat_minor": 2
}
