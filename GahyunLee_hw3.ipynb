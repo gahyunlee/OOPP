{
 "cells": [
  {
   "cell_type": "markdown",
   "metadata": {},
   "source": [
    "### Q1: \n",
    "Write a function to do the following. It will accept a string of words from the user. The\n",
    "program should then create a dictionary where the key is a letter in the alphabet and the value\n",
    "is a list of all words beginning with that letter.\n",
    "For example, if the input is the string ‘heavy,duty,light,mean,median,mode,hers,home,long’,\n",
    "the output should be the following dictionary\n",
    "{‘h’:[‘heavy’, ‘hers’, ‘home’], ‘d’:[duty], ‘l’:[‘light’, ‘long’], ‘m’:[‘mean’, ‘median’,\n",
    "‘mode’]}\n",
    "Ask the user to provide a list and then call the function to print out the dictionary.\n",
    "Note: Enter a string without the quotes and with the words separated by a comma. Assume that\n",
    "the user may also enter spaces. So you must remove any leading and trailing spaces in\n",
    "each word.\n"
   ]
  },
  {
   "cell_type": "code",
   "execution_count": 1,
   "metadata": {},
   "outputs": [
    {
     "name": "stdout",
     "output_type": "stream",
     "text": [
      "Please enter your list of words: apple, Airplane, banana, code, Cane, bottle, dog\n",
      "My list is ['apple', 'airplane', 'banana', 'code', 'cane', 'bottle', 'dog']\n",
      "{'a': ['apple', 'airplane'], 'b': ['banana', 'bottle'], 'c': ['code', 'cane'], 'd': ['dog']}\n"
     ]
    }
   ],
   "source": [
    "def dictionarize(my_lst2):\n",
    "    my_dict = {}\n",
    "    for str1 in my_lst2:\n",
    "        if str1[0] not in my_dict.keys():\n",
    "            my_dict[str1[0]] = []\n",
    "            my_dict[str1[0]].append(str1)\n",
    "        else:\n",
    "            my_dict[str1[0]].append(str1)\n",
    "    return my_dict\n",
    "\n",
    "def main():\n",
    "    my_str = input(\"Please enter your list of words: \")\n",
    "    my_str = my_str.lower()\n",
    "    my_str = my_str.replace(' ','')\n",
    "    my_lst = my_str.split(',')\n",
    "    print('My list is', my_lst)\n",
    "    print(dictionarize(my_lst))                                \n",
    "\n",
    "main()"
   ]
  },
  {
   "cell_type": "markdown",
   "metadata": {},
   "source": [
    "### Q2: \n",
    "Write a Python script to create a list by concatenating a given list with the integers in the\n",
    "range 1 to n. For example, given a list [‘p’,’q’] and n = 5 (n included), the output should be a list\n",
    "[‘p1’, ‘q1’, ‘p2’, ‘q2’, ‘p3’, ‘q3’, ‘p4’, ‘q4’, ‘p5’, ‘q5]"
   ]
  },
  {
   "cell_type": "code",
   "execution_count": 3,
   "metadata": {},
   "outputs": [
    {
     "name": "stdout",
     "output_type": "stream",
     "text": [
      "Enter a string of a characters: abc\n",
      "Enter the number of values in the range: 4\n"
     ]
    },
    {
     "data": {
      "text/plain": [
       "['a1', 'a2', 'a3', 'a4', 'b1', 'b2', 'b3', 'b4', 'c1', 'c2', 'c3', 'c4']"
      ]
     },
     "execution_count": 3,
     "metadata": {},
     "output_type": "execute_result"
    }
   ],
   "source": [
    "str_char = input('Enter a string of a characters: ')\n",
    "num = int(input('Enter the number of values in the range: '))\n",
    "\n",
    "y = list(range(1, num+1))\n",
    "\n",
    "[ a+str(b) for a in str_char for b in y ]"
   ]
  },
  {
   "cell_type": "markdown",
   "metadata": {},
   "source": [
    "### Q3: \n",
    "Write a Python program to read two strings of words separated by a comma. Convert each string\n",
    "to a set of unique words. Then print out a set containing all the words that occur in the two sets together.\n",
    "Print out a second set that contains the words that occur in both sets. Assume that the user may enter\n",
    "spaces as well. Therefore, you will need to follow the steps given below:\n",
    "• Read in the string\n",
    "• Separate it into a list using the ‘,’ as a delimiter\n",
    "• Use list comprehension to strip each word of any leading and trailing spaces\n",
    "• Convert each list to a set\n",
    "• Use appropriate set methods to print out the required output"
   ]
  },
  {
   "cell_type": "code",
   "execution_count": 4,
   "metadata": {},
   "outputs": [
    {
     "name": "stdout",
     "output_type": "stream",
     "text": [
      "Enter your first sequence of values seperated by commas: 1,3, 5, 6, 7\n",
      "Enter your second sequence of values seperated by commas: 2, 3, 5, 8\n",
      "The elements in two sets together are: {'6', '1', '5', '3', '7', '8', '2'}\n",
      "The common elements in the two sets are: {'3', '5'}\n"
     ]
    }
   ],
   "source": [
    "def intfy(a_lst):\n",
    "    a_lst = a_lst.replace(' ','')\n",
    "    a_lst = a_lst.split(',')\n",
    "    for val in a_lst:\n",
    "        a_lst = set(a_lst)\n",
    "        return a_lst\n",
    "\n",
    "def main():\n",
    "    num_str1 = input('Enter your first sequence of values seperated by commas: ')\n",
    "    num_str2 = input('Enter your second sequence of values seperated by commas: ')\n",
    "    num_str1 = intfy(num_str1)\n",
    "    num_str2 = intfy(num_str2)\n",
    "    num_str_tgr = num_str1 | num_str2\n",
    "    num_str_cmn = num_str1 & num_str2\n",
    "    print('The elements in two sets together are:', num_str_tgr)\n",
    "    print('The common elements in the two sets are:', num_str_cmn)\n",
    "\n",
    "main()"
   ]
  }
 ],
 "metadata": {
  "kernelspec": {
   "display_name": "Python 3",
   "language": "python",
   "name": "python3"
  },
  "language_info": {
   "codemirror_mode": {
    "name": "ipython",
    "version": 3
   },
   "file_extension": ".py",
   "mimetype": "text/x-python",
   "name": "python",
   "nbconvert_exporter": "python",
   "pygments_lexer": "ipython3",
   "version": "3.7.1"
  }
 },
 "nbformat": 4,
 "nbformat_minor": 2
}
